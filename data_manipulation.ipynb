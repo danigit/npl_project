{
 "metadata": {
  "language_info": {
   "codemirror_mode": {
    "name": "ipython",
    "version": 3
   },
   "file_extension": ".py",
   "mimetype": "text/x-python",
   "name": "python",
   "nbconvert_exporter": "python",
   "pygments_lexer": "ipython3",
   "version": "3.7.6-final"
  },
  "orig_nbformat": 2,
  "kernelspec": {
   "name": "python3",
   "display_name": "Python 3",
   "language": "python"
  }
 },
 "nbformat": 4,
 "nbformat_minor": 2,
 "cells": [
  {
   "cell_type": "code",
   "execution_count": 106,
   "metadata": {},
   "outputs": [],
   "source": [
    "# importing python libraries\n",
    "import pandas as pd\n",
    "import re"
   ]
  },
  {
   "cell_type": "code",
   "execution_count": 107,
   "metadata": {},
   "outputs": [],
   "source": [
    "# loading the datasets\n",
    "questions = pd.read_csv(\"data/questions.csv\", encoding=\"ANSI\")\n",
    "answers = pd.read_csv(\"data/answers.csv\", encoding=\"ANSI\")"
   ]
  },
  {
   "cell_type": "code",
   "execution_count": 115,
   "metadata": {},
   "outputs": [
    {
     "output_type": "stream",
     "name": "stdout",
     "text": [
      "         Id                                              Title  \\\n0  33071859  What is the difference between an array of cha...   \n1  24855711     How can I create a 2D array of 2D char arrays?   \n2  49313051                       Java Generic Matrix creation   \n3    663632  Converting a Bidimensional Array (Numbers) Int...   \n4    705288    Java array: direct access to component in array   \n\n                                                Body  \n0  <p>I'm new to java and I need help learning no...  \n1  <p>I want to create a 2D array [3][3] ; each e...  \n2  <p>I want to create a generic type matrix in j...  \n3  <p>I'm in need of help right now. I need to co...  \n4  <p>Am I able to access an array component dire...  \n0       <p>Use the <code>toArray()</code> method of th...\n1       <p>If you don't want duplicates in a <code>Col...\n2       <p>If you want the array of items to expand (i...\n3       <p>If you don't want duplicates, use a <a href...\n4       <p>Pretty much always prefer a list. Lists hav...\n                              ...                        \n1170    <p>You can use <a href=\"https://github.com/yeg...\n1171    <p>In new version,</p>\\n<pre><code>IOUtils.rea...\n1172    <p>I found the solution. Actually Base64 class...\n1173    <p>Wrap it in a DataInputStream if that is off...\n1174    <p>Yes, there limit on java array. Java uses a...\nName: Body, Length: 1175, dtype: object\n"
     ]
    }
   ],
   "source": [
    "# printing a sample of the data\n",
    "print(questions.head())\n",
    "print(answers.head())"
   ]
  },
  {
   "cell_type": "code",
   "execution_count": 109,
   "metadata": {},
   "outputs": [
    {
     "output_type": "stream",
     "name": "stdout",
     "text": [
      "The columns of the new table are: | Title | Body_question | Body_answers | Score | "
     ]
    }
   ],
   "source": [
    "# joining the two database\n",
    "questions_and_answers = questions.set_index(\"Id\").join(answers.set_index(\"ParentId\"), lsuffix=\"_question\", rsuffix=\"_answers\", on=\"Id\")\n",
    "\n",
    "print(\"The columns of the new table are: \", end=\"| \")\n",
    "for column in questions_and_answers.columns:\n",
    "    print(column, end=\" | \")"
   ]
  },
  {
   "cell_type": "code",
   "execution_count": 110,
   "metadata": {},
   "outputs": [
    {
     "output_type": "stream",
     "name": "stdout",
     "text": [
      "                                                    Title  \\\n",
      "Id                                                          \n",
      "203984  [How do I remove repeated elements from ArrayL...   \n",
      "286161  [How can I see if an element in an int array i...   \n",
      "362367  [Java Arrays & Generics : Java Equivalent to C...   \n",
      "374339  [Is there a Java array/list which is staticall...   \n",
      "440430  [Java sort String array of file names by their...   \n",
      "\n",
      "                                            Body_question  \\\n",
      "Id                                                          \n",
      "203984  [<p>I have an <code>ArrayList&lt;String&gt;</c...   \n",
      "286161  [<p>example:</p>\\n\\n<p>I want to see if <code>...   \n",
      "362367  [<p>So in C#, I can treat a <code>string[]</co...   \n",
      "374339  [<p>This would be very handy as typecasting ge...   \n",
      "440430  [<p>I have an array of filenames and need to s...   \n",
      "\n",
      "                                             Body_answers  \\\n",
      "Id                                                          \n",
      "203984  [<p>If you don't want duplicates in a <code>Co...   \n",
      "286161  [<p>There is no such thing as an \"empty\" eleme...   \n",
      "362367  [<p><code>Iterable &lt;T&gt;</code></p>\\n, <p>...   \n",
      "374339  [<p>If by \"variable length\" you mean that the ...   \n",
      "440430  [<p>If I remember correctly, the Arrays.sort(....   \n",
      "\n",
      "                                                    Score  \n",
      "Id                                                         \n",
      "203984  [1011, 53, 293, 1, 12, 25, 2, 21, 1, 0, 1, 0, ...  \n",
      "286161                                  [8, 21, 3, 2, -1]  \n",
      "362367                                   [4, 9, 2, 49, 0]  \n",
      "374339                                         [1, 1, 13]  \n",
      "440430                         [4, 3, 1, 1, 21, -1, 3, 1]  \n"
     ]
    }
   ],
   "source": [
    "# grouping together all the answers to the same question\n",
    "# creating for each question a list with the answers and a list with the scores\n",
    "# to those answers\n",
    "questions_and_answers = questions_and_answers.groupby(\"Id\").agg(list)\n",
    "print(questions_and_answers.head())"
   ]
  },
  {
   "cell_type": "code",
   "execution_count": 111,
   "metadata": {},
   "outputs": [
    {
     "output_type": "stream",
     "name": "stdout",
     "text": [
      "                                                    Title  \\\nId                                                          \n203984  How do I remove repeated elements from ArrayList?   \n286161  How can I see if an element in an int array is...   \n362367  Java Arrays & Generics : Java Equivalent to C#...   \n374339  Is there a Java array/list which is statically...   \n440430  Java sort String array of file names by their ...   \n\n                                            Body_question  \\\nId                                                          \n203984  <p>I have an <code>ArrayList&lt;String&gt;</co...   \n286161  <p>example:</p>\\n\\n<p>I want to see if <code>a...   \n362367  <p>So in C#, I can treat a <code>string[]</cod...   \n374339  <p>This would be very handy as typecasting get...   \n440430  <p>I have an array of filenames and need to so...   \n\n                                             Body_answers  \\\nId                                                          \n203984  [<p>If you don't want duplicates in a <code>Co...   \n286161  [<p>There is no such thing as an \"empty\" eleme...   \n362367  [<p><code>Iterable &lt;T&gt;</code></p>\\n, <p>...   \n374339  [<p>If by \"variable length\" you mean that the ...   \n440430  [<p>If I remember correctly, the Arrays.sort(....   \n\n                                                    Score  \nId                                                         \n203984  [1011, 53, 293, 1, 12, 25, 2, 21, 1, 0, 1, 0, ...  \n286161                                  [8, 21, 3, 2, -1]  \n362367                                   [4, 9, 2, 49, 0]  \n374339                                         [1, 1, 13]  \n440430                         [4, 3, 1, 1, 21, -1, 3, 1]  \n"
     ]
    }
   ],
   "source": [
    "# removing the list format for the columns that have only one element\n",
    "reformat_columns()\n",
    "print(questions_and_answers.head())"
   ]
  },
  {
   "cell_type": "code",
   "execution_count": 116,
   "metadata": {},
   "outputs": [
    {
     "output_type": "stream",
     "name": "stdout",
     "text": [
      "                                                      Title  \\\nId                                                            \n203984    How do I remove repeated elements from ArrayList?   \n286161    How can I see if an element in an int array is...   \n362367    Java Arrays & Generics : Java Equivalent to C#...   \n374339    Is there a Java array/list which is statically...   \n440430    Java sort String array of file names by their ...   \n...                                                     ...   \n63514197  What happens when there are less elements in A...   \n63936646         Convertion array ['xx=yy'] to map of xx=yy   \n63944448  Storing multiple objects in a single array ele...   \n63990703  Is there a difference between new Class[]{} an...   \n64586481     Can you create a code in array form with this?   \n\n                                              Body_question  \\\nId                                                            \n203984    I have an <code>ArrayList&lt;String&gt;</code>...   \n286161    example:\\n\\nI want to see if <code>array[5]</c...   \n362367    So in C#, I can treat a <code>string[]</code> ...   \n374339    This would be very handy as typecasting gets b...   \n440430    I have an array of filenames and need to sort ...   \n...                                                     ...   \n63514197  Say capacity is 10, I add 5 elements to ArrayL...   \n63936646  i have an array of object like this [&quot;sta...   \n63944448  Is it possible to store multiple objects in a ...   \n63990703  Is there a difference between <code>new Class[...   \n64586481  Write a Java program that keeps a number from ...   \n\n                                               Body_answers  \\\nId                                                            \n203984    [If you don't want duplicates in a <code>Colle...   \n286161    [There is no such thing as an \"empty\" element ...   \n362367    [<code>Iterable &lt;T&gt;</code>\\n, Are you lo...   \n374339    [If by \"variable length\" you mean that the siz...   \n440430    [If I remember correctly, the Arrays.sort(...)...   \n...                                                     ...   \n63514197  [The javadoc states:\\n\\nEach <code>ArrayList</...   \n63936646  [In Java you can use stream to convert your ar...   \n63944448  [No. Any given element of an array is just tha...   \n63990703  [No difference.\\nDecompiling this:\\n<code>fina...   \n64586481  [Create a Strint array with all weekdays (<cod...   \n\n                                                      Score  \nId                                                           \n203984    [1011, 53, 293, 1, 12, 25, 2, 21, 1, 0, 1, 0, ...  \n286161                                    [8, 21, 3, 2, -1]  \n362367                                     [4, 9, 2, 49, 0]  \n374339                                           [1, 1, 13]  \n440430                           [4, 3, 1, 1, 21, -1, 3, 1]  \n...                                                     ...  \n63514197                                                [4]  \n63936646                                             [1, 1]  \n63944448                                             [1, 0]  \n63990703                                                [7]  \n64586481                                                [1]  \n\n[339 rows x 4 columns]\n"
     ]
    }
   ],
   "source": [
    "# removing the html tags, but keeping the <code> tag\n",
    "strip_html()\n",
    "print(questions_and_answers)"
   ]
  },
  {
   "cell_type": "code",
   "execution_count": 113,
   "metadata": {},
   "outputs": [],
   "source": [
    "def reformat_columns():\n",
    "    questions_and_answers[\"Title\"] = questions_and_answers[\"Title\"].apply(get_list_first_elem)\n",
    "    questions_and_answers[\"Body_question\"] = questions_and_answers[\"Body_question\"].apply(get_list_first_elem)\n",
    "\n",
    "def get_list_first_elem(param_list):\n",
    "    if(isinstance(param_list, list)):\n",
    "        return param_list[0]\n",
    "    return param_list\n",
    "    \n",
    "def strip_html():\n",
    "    questions_and_answers[\"Title\"] = questions_and_answers[\"Title\"].apply(remove_html_tags)\n",
    "    questions_and_answers[\"Body_question\"] = questions_and_answers[\"Body_question\"].apply(remove_html_tags)\n",
    "    questions_and_answers[\"Body_answers\"] = questions_and_answers[\"Body_answers\"].apply(remove_html_tags)\n",
    "    \n",
    "def remove_html_tags(text):\n",
    "    if(isinstance(text, list)):\n",
    "        for i in range(len(text)):\n",
    "            text[i] = re.sub(r'<(?!/code|code).*?>', '', text[i]) \n",
    "        return text\n",
    "    else:\n",
    "        return re.sub(r'<(?!/code|code).*?>', '', text)"
   ]
  },
  {
   "cell_type": "code",
   "execution_count": null,
   "metadata": {},
   "outputs": [],
   "source": []
  }
 ]
}