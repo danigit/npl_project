{
 "metadata": {
  "language_info": {
   "codemirror_mode": {
    "name": "ipython",
    "version": 3
   },
   "file_extension": ".py",
   "mimetype": "text/x-python",
   "name": "python",
   "nbconvert_exporter": "python",
   "pygments_lexer": "ipython3",
   "version": "3.7.6-final"
  },
  "orig_nbformat": 2,
  "kernelspec": {
   "name": "python3",
   "display_name": "Python 3",
   "language": "python"
  }
 },
 "nbformat": 4,
 "nbformat_minor": 2,
 "cells": [
  {
   "cell_type": "code",
   "execution_count": 30,
   "metadata": {},
   "outputs": [],
   "source": [
    "# importing python libraries\n",
    "import pandas as pd"
   ]
  },
  {
   "cell_type": "code",
   "execution_count": 31,
   "metadata": {},
   "outputs": [],
   "source": [
    "# loading the datasets\n",
    "questions = pd.read_csv(\"data/questions.csv\", encoding=\"ANSI\")\n",
    "answers = pd.read_csv(\"data/answers.csv\", encoding=\"ANSI\")"
   ]
  },
  {
   "cell_type": "code",
   "execution_count": 32,
   "metadata": {},
   "outputs": [
    {
     "output_type": "stream",
     "name": "stdout",
     "text": [
      "         Id                                              Title  \\\n0  33071859  What is the difference between an array of cha...   \n1  24855711     How can I create a 2D array of 2D char arrays?   \n2  49313051                       Java Generic Matrix creation   \n3    663632  Converting a Bidimensional Array (Numbers) Int...   \n4    705288    Java array: direct access to component in array   \n\n                                                Body  \\\n0  <p>I'm new to java and I need help learning no...   \n1  <p>I want to create a 2D array [3][3] ; each e...   \n2  <p>I want to create a generic type matrix in j...   \n3  <p>I'm in need of help right now. I need to co...   \n4  <p>Am I able to access an array component dire...   \n\n                                                Tags  \n0  <java><arrays><data-structures><types><nomencl...  \n1             <java><arrays><multidimensional-array>  \n2                  <java><arrays><matrix><arraylist>  \n3                                     <java><arrays>  \n4                                     <java><arrays>  \n0         23\n1       1011\n2          0\n3         53\n4          7\n        ... \n1170       0\n1171       0\n1172       0\n1173       1\n1174       2\nName: Score, Length: 1175, dtype: int64\n"
     ]
    }
   ],
   "source": [
    "# printing a sample of the data\n",
    "print(questions.head())\n",
    "print(answers[\"Score\"])"
   ]
  },
  {
   "cell_type": "code",
   "execution_count": 33,
   "metadata": {},
   "outputs": [
    {
     "output_type": "stream",
     "name": "stdout",
     "text": [
      "The columns of the new table are: | Title | Body_question | Tags | Body_answer | Score | "
     ]
    }
   ],
   "source": [
    "# joining the two database\n",
    "questions_and_answers = questions.set_index(\"Id\").join(answers.set_index(\"ParentId\"), lsuffix=\"_question\", rsuffix=\"_answer\", on=\"Id\")\n",
    "\n",
    "print(\"The columns of the new table are: \", end=\"| \")\n",
    "for column in questions_and_answers.columns:\n",
    "    print(column, end=\" | \")"
   ]
  },
  {
   "cell_type": "code",
   "execution_count": 34,
   "metadata": {},
   "outputs": [
    {
     "output_type": "stream",
     "name": "stdout",
     "text": [
      "                                                    Title  \\\n",
      "Id                                                          \n",
      "203984  [How do I remove repeated elements from ArrayL...   \n",
      "286161  [How can I see if an element in an int array i...   \n",
      "362367  [Java Arrays & Generics : Java Equivalent to C...   \n",
      "374339  [Is there a Java array/list which is staticall...   \n",
      "440430  [Java sort String array of file names by their...   \n",
      "\n",
      "                                            Body_question  \\\n",
      "Id                                                          \n",
      "203984  [<p>I have an <code>ArrayList&lt;String&gt;</c...   \n",
      "286161  [<p>example:</p>\\n\\n<p>I want to see if <code>...   \n",
      "362367  [<p>So in C#, I can treat a <code>string[]</co...   \n",
      "374339  [<p>This would be very handy as typecasting ge...   \n",
      "440430  [<p>I have an array of filenames and need to s...   \n",
      "\n",
      "                                                     Tags  \\\n",
      "Id                                                          \n",
      "203984  [<java><list><collections><arraylist><duplicat...   \n",
      "286161  [<java><arrays>, <java><arrays>, <java><arrays...   \n",
      "362367  [<java><arrays><generics>, <java><arrays><gene...   \n",
      "374339  [<java><arrays><list>, <java><arrays><list>, <...   \n",
      "440430  [<java><arrays><file><sorting><filenames>, <ja...   \n",
      "\n",
      "                                              Body_answer  \\\n",
      "Id                                                          \n",
      "203984  [<p>If you don't want duplicates in a <code>Co...   \n",
      "286161  [<p>There is no such thing as an \"empty\" eleme...   \n",
      "362367  [<p><code>Iterable &lt;T&gt;</code></p>\\n, <p>...   \n",
      "374339  [<p>If by \"variable length\" you mean that the ...   \n",
      "440430  [<p>If I remember correctly, the Arrays.sort(....   \n",
      "\n",
      "                                                    Score  \n",
      "Id                                                         \n",
      "203984  [1011, 53, 293, 1, 12, 25, 2, 21, 1, 0, 1, 0, ...  \n",
      "286161                                  [8, 21, 3, 2, -1]  \n",
      "362367                                   [4, 9, 2, 49, 0]  \n",
      "374339                                         [1, 1, 13]  \n",
      "440430                         [4, 3, 1, 1, 21, -1, 3, 1]  \n"
     ]
    }
   ],
   "source": [
    "# grouping together all the answers to the same question\n",
    "# creating for each question a list with the answers and a list with the scores\n",
    "# to those answers\n",
    "questions_and_answers = questions_and_answers.groupby(\"Id\").agg(list)\n",
    "print(questions_and_answers.head())"
   ]
  },
  {
   "cell_type": "code",
   "execution_count": null,
   "metadata": {},
   "outputs": [],
   "source": []
  }
 ]
}